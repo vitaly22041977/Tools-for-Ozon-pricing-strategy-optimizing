{
 "cells": [
  {
   "cell_type": "code",
   "execution_count": 1,
   "id": "c62e2667-d7c2-4264-bca4-a525c3fa76f4",
   "metadata": {},
   "outputs": [],
   "source": [
    "#!pip install gspread\n",
    "#!pip install oauth2client\n",
    "#!pip install PyGithub\n",
    "#!pip install google-api-python-client google-auth google-auth-httplib2 google-auth-oauthlib\n",
    "#!pip install openpyxl  # для работы с .xlsx"
   ]
  },
  {
   "cell_type": "markdown",
   "id": "e5d41419-5f5c-421e-8fd5-bd614e5ca832",
   "metadata": {},
   "source": [
    "## Загрузка данных из Google Sheets в GitHub"
   ]
  },
  {
   "cell_type": "code",
   "execution_count": 2,
   "id": "0f9ec904-f538-4ea2-867d-8b4555fb8b04",
   "metadata": {},
   "outputs": [],
   "source": [
    "import gspread\n",
    "from oauth2client.service_account import ServiceAccountCredentials\n",
    "import pandas as pd\n",
    "import os\n",
    "import json"
   ]
  },
  {
   "cell_type": "code",
   "execution_count": 3,
   "id": "bc9929bc-c095-4067-944f-f467f716d6d4",
   "metadata": {},
   "outputs": [],
   "source": [
    "# Авторизация\n",
    "scope = ['https://spreadsheets.google.com/feeds',\n",
    "         'https://www.googleapis.com/auth/drive']\n",
    "with open(r'D:\\PycharmProjects\\config.ini\\credentials.json', 'r', encoding='utf-8') as f:\n",
    "    creds_data = json.load(f)\n",
    "\n",
    "creds = ServiceAccountCredentials.from_json_keyfile_dict(creds_data, scope)\n",
    "client = gspread.authorize(creds)\n",
    "\n",
    "# Открытие таблицы\n",
    "sheet = client.open_by_key('1draL0IcMP94h3YChWrHMxfI0AG3gTBgNoXO3lqj0jKE').worksheet('product info')"
   ]
  },
  {
   "cell_type": "code",
   "execution_count": 4,
   "id": "738b1422-3db1-4166-a410-ac4503e14e33",
   "metadata": {},
   "outputs": [],
   "source": [
    "# Чтение данных\n",
    "data = sheet.get_all_records()\n",
    "df = pd.DataFrame(data)\n",
    "# Сохранение данных в CSV\n",
    "df.to_csv('products_data.csv', index=False, encoding='utf-8')"
   ]
  },
  {
   "cell_type": "code",
   "execution_count": 5,
   "id": "4c9aa50c-9f71-4b60-a7c0-d4804888014c",
   "metadata": {},
   "outputs": [],
   "source": [
    "from github import Github\n",
    "from github import GithubException"
   ]
  },
  {
   "cell_type": "code",
   "execution_count": 6,
   "id": "28ab9d3e-b34f-4085-8dd3-e7c40d8acd1a",
   "metadata": {},
   "outputs": [],
   "source": [
    "# Чтение токена из файла\n",
    "with open(r\"D:\\PycharmProjects\\config.ini\\.env.github\", 'r', encoding='utf-8') as f:\n",
    "    github_token = f.read().strip()"
   ]
  },
  {
   "cell_type": "code",
   "execution_count": 7,
   "id": "78f6fe47-ffcd-4c99-8621-fddbae88697f",
   "metadata": {},
   "outputs": [],
   "source": [
    "# Подключение к GitHub\n",
    "g = Github(github_token)\n",
    "user = g.get_user()  # Получаем текущего пользователя"
   ]
  },
  {
   "cell_type": "code",
   "execution_count": 8,
   "id": "630fccbe-f4bf-4a9e-a5a1-c541be2ca5c8",
   "metadata": {},
   "outputs": [
    {
     "name": "stdout",
     "output_type": "stream",
     "text": [
      "Репозиторий 'Tools-for-Ozon-pricing-strategy-optimizing' не найден. Создаём новый...\n",
      "Репозиторий успешно создан: https://github.com/vitaly22041977/Tools-for-Ozon-pricing-strategy-optimizing\n"
     ]
    }
   ],
   "source": [
    "# Название нового репозитория\n",
    "repo_name = \"Tools-for-Ozon-pricing-strategy-optimizing\"\n",
    "\n",
    "try:\n",
    "    # Пытаемся получить репозиторий (если он уже существует)\n",
    "    repo = user.get_repo(repo_name)\n",
    "    print(f\"Репозиторий '{repo_name}' уже существует.\")\n",
    "except GithubException as e:\n",
    "    if e.status == 404:\n",
    "        # Если репозитория нет — создаём его\n",
    "        print(f\"Репозиторий '{repo_name}' не найден. Создаём новый...\")\n",
    "        repo = user.create_repo(\n",
    "            repo_name,\n",
    "            description=\"Оптимизация ценовой стратегии для Ozon\",\n",
    "            private=False,  # False = публичный репозиторий\n",
    "            auto_init=False  # Не создавать README при создании\n",
    "        )\n",
    "        print(f\"Репозиторий успешно создан: {repo.html_url}\")\n",
    "    else:\n",
    "        raise e  # Если ошибка не 404 — пробрасываем дальше"
   ]
  },
  {
   "cell_type": "code",
   "execution_count": 9,
   "id": "b2a7b8d8-8fc7-40a4-9fa3-b03719e73994",
   "metadata": {},
   "outputs": [
    {
     "name": "stdout",
     "output_type": "stream",
     "text": [
      "Файл успешно загружен в репозиторий!\n"
     ]
    }
   ],
   "source": [
    "# Загрузка файла в репозиторий\n",
    "file_path = \"products_data.csv\"\n",
    "commit_message = \"Add product data from Google Sheets\"\n",
    "\n",
    "try:\n",
    "    # Проверяем, существует ли уже файл\n",
    "    repo.get_contents(file_path)\n",
    "    print(f\"Файл '{file_path}' уже существует. Используйте update_file для изменения.\")\n",
    "except GithubException as e:\n",
    "    if e.status == 404:\n",
    "        # Если файла нет — создаём его\n",
    "        with open('products_data.csv', 'r', encoding='utf-8') as file:\n",
    "            content = file.read()\n",
    "        \n",
    "        repo.create_file(\n",
    "            path=file_path,\n",
    "            message=commit_message,\n",
    "            content=content,\n",
    "            branch=\"main\"  # Указываем ветку (по умолчанию — main/master)\n",
    "        )\n",
    "        print(f\"Файл успешно загружен в репозиторий!\")\n",
    "    else:\n",
    "        raise e"
   ]
  },
  {
   "cell_type": "code",
   "execution_count": null,
   "id": "afde08b4-cf79-4b23-81f6-a5177aef00c8",
   "metadata": {},
   "outputs": [],
   "source": []
  }
 ],
 "metadata": {
  "kernelspec": {
   "display_name": "Python 3 (ipykernel)",
   "language": "python",
   "name": "python3"
  },
  "language_info": {
   "codemirror_mode": {
    "name": "ipython",
    "version": 3
   },
   "file_extension": ".py",
   "mimetype": "text/x-python",
   "name": "python",
   "nbconvert_exporter": "python",
   "pygments_lexer": "ipython3",
   "version": "3.13.5"
  }
 },
 "nbformat": 4,
 "nbformat_minor": 5
}
