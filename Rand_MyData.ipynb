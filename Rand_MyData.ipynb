{
 "cells": [
  {
   "cell_type": "code",
   "execution_count": 1,
   "id": "c62e2667-d7c2-4264-bca4-a525c3fa76f4",
   "metadata": {},
   "outputs": [],
   "source": [
    "#!pip install gspread\n",
    "#!pip install oauth2client\n",
    "#!pip install PyGithub\n",
    "#!pip install google-api-python-client google-auth google-auth-httplib2 google-auth-oauthlib\n",
    "#!pip install openpyxl  # для работы с .xlsx"
   ]
  },
  {
   "cell_type": "markdown",
   "id": "e5d41419-5f5c-421e-8fd5-bd614e5ca832",
   "metadata": {},
   "source": [
    "## Рандомизация данных из коммерческого источника Google Sheets"
   ]
  },
  {
   "cell_type": "code",
   "execution_count": 2,
   "id": "0f9ec904-f538-4ea2-867d-8b4555fb8b04",
   "metadata": {},
   "outputs": [],
   "source": [
    "import gspread\n",
    "from oauth2client.service_account import ServiceAccountCredentials\n",
    "import pandas as pd\n",
    "import random\n",
    "import string\n",
    "import os\n",
    "import json  # Добавьте эту строку в начале файла\n"
   ]
  },
  {
   "cell_type": "code",
   "execution_count": 3,
   "id": "bc9929bc-c095-4067-944f-f467f716d6d4",
   "metadata": {},
   "outputs": [],
   "source": [
    "# Авторизация\n",
    "scope = ['https://spreadsheets.google.com/feeds',\n",
    "         'https://www.googleapis.com/auth/drive']\n",
    "with open(r'D:\\PycharmProjects\\config.ini\\credentials.json', 'r', encoding='utf-8') as f:\n",
    "    creds_data = json.load(f)\n",
    "\n",
    "creds = ServiceAccountCredentials.from_json_keyfile_dict(creds_data, scope)\n",
    "client = gspread.authorize(creds)\n",
    "\n",
    "# Открытие таблицы\n",
    "sheet = client.open_by_key('1draL0IcMP94h3YChWrHMxfI0AG3gTBgNoXO3lqj0jKE').worksheet('product info')"
   ]
  },
  {
   "cell_type": "code",
   "execution_count": 4,
   "id": "738b1422-3db1-4166-a410-ac4503e14e33",
   "metadata": {},
   "outputs": [],
   "source": [
    "# Чтение данных\n",
    "data = sheet.get_all_records()\n",
    "df = pd.DataFrame(data)\n"
   ]
  },
  {
   "cell_type": "code",
   "execution_count": 5,
   "id": "d5ff9b9f-ebcf-40e5-a59b-a1dfe1ef195b",
   "metadata": {},
   "outputs": [
    {
     "data": {
      "text/plain": [
       "{'spreadsheetId': '1draL0IcMP94h3YChWrHMxfI0AG3gTBgNoXO3lqj0jKE',\n",
       " 'updatedRange': \"'product info'!A1:K320\",\n",
       " 'updatedRows': 320,\n",
       " 'updatedColumns': 11,\n",
       " 'updatedCells': 3520}"
      ]
     },
     "execution_count": 5,
     "metadata": {},
     "output_type": "execute_result"
    }
   ],
   "source": [
    "# Функции для рандомизации\n",
    "def random_string(length=8):\n",
    "    return ''.join(random.choices(string.ascii_uppercase + string.digits, k=length))\n",
    "\n",
    "def random_number(length=8):\n",
    "    return ''.join(random.choices(string.digits, k=length))\n",
    "\n",
    "# Рандомизация нужных колонок\n",
    "df['Offer ID'] = df['Offer ID'].apply(lambda x: random_string())\n",
    "df['SKU'] = df['SKU'].apply(lambda x: random_string())\n",
    "df['Product ID'] = df['Product ID'].apply(lambda x: random_number())\n",
    "df['Штрихкоды'] = df['Штрихкоды'].apply(lambda x: random_number(13))\n",
    "df['Название'] = df['Название'].apply(lambda x: f\"Product_{random_string(6)}\")\n",
    "\n",
    "# Обновление данных в Google Sheets\n",
    "sheet.update([df.columns.values.tolist()] + df.values.tolist())"
   ]
  },
  {
   "cell_type": "code",
   "execution_count": 12,
   "id": "4c9aa50c-9f71-4b60-a7c0-d4804888014c",
   "metadata": {},
   "outputs": [],
   "source": [
    "from github import Github\n",
    "from github import GithubException\n"
   ]
  },
  {
   "cell_type": "code",
   "execution_count": 13,
   "id": "28ab9d3e-b34f-4085-8dd3-e7c40d8acd1a",
   "metadata": {},
   "outputs": [],
   "source": [
    "# Чтение токена из файла\n",
    "with open(r\"D:\\PycharmProjects\\config.ini\\.env.github\", 'r', encoding='utf-8') as f:\n",
    "    github_token = f.read().strip()\n"
   ]
  },
  {
   "cell_type": "code",
   "execution_count": 14,
   "id": "78f6fe47-ffcd-4c99-8621-fddbae88697f",
   "metadata": {},
   "outputs": [],
   "source": [
    "# Подключение к GitHub\n",
    "g = Github(github_token)\n",
    "user = g.get_user()  # Получаем текущего пользователя\n"
   ]
  },
  {
   "cell_type": "code",
   "execution_count": 15,
   "id": "630fccbe-f4bf-4a9e-a5a1-c541be2ca5c8",
   "metadata": {},
   "outputs": [
    {
     "name": "stdout",
     "output_type": "stream",
     "text": [
      "Репозиторий 'Tools-for-Ozon-pricing-strategy-optimizing' не найден. Создаём новый...\n",
      "Репозиторий успешно создан: https://github.com/vitaly22041977/Tools-for-Ozon-pricing-strategy-optimizing\n"
     ]
    }
   ],
   "source": [
    "# Название нового репозитория\n",
    "repo_name = \"Tools-for-Ozon-pricing-strategy-optimizing\"\n",
    "\n",
    "try:\n",
    "    # Пытаемся получить репозиторий (если он уже существует)\n",
    "    repo = user.get_repo(repo_name)\n",
    "    print(f\"Репозиторий '{repo_name}' уже существует.\")\n",
    "except GithubException as e:\n",
    "    if e.status == 404:\n",
    "        # Если репозитория нет — создаём его\n",
    "        print(f\"Репозиторий '{repo_name}' не найден. Создаём новый...\")\n",
    "        repo = user.create_repo(\n",
    "            repo_name,\n",
    "            description=\"Оптимизация ценовой стратегии для Ozon\",\n",
    "            private=False,  # False = публичный репозиторий\n",
    "            auto_init=False  # Не создавать README при создании\n",
    "        )\n",
    "        print(f\"Репозиторий успешно создан: {repo.html_url}\")\n",
    "    else:\n",
    "        raise e  # Если ошибка не 404 — пробрасываем дальше\n"
   ]
  },
  {
   "cell_type": "code",
   "execution_count": 16,
   "id": "b2a7b8d8-8fc7-40a4-9fa3-b03719e73994",
   "metadata": {},
   "outputs": [
    {
     "name": "stdout",
     "output_type": "stream",
     "text": [
      "Файл успешно загружен в репозиторий!\n"
     ]
    }
   ],
   "source": [
    "# Загрузка файла в репозиторий\n",
    "file_path = \"competitive_analysis/randomized_products.csv\"\n",
    "commit_message = \"Add randomized product data\"\n",
    "\n",
    "try:\n",
    "    # Проверяем, существует ли уже файл\n",
    "    repo.get_contents(file_path)\n",
    "    print(f\"Файл '{file_path}' уже существует. Используйте update_file для изменения.\")\n",
    "except GithubException as e:\n",
    "    if e.status == 404:\n",
    "        # Если файла нет — создаём его\n",
    "        with open('randomized_products.csv', 'r', encoding='utf-8') as file:\n",
    "            content = file.read()\n",
    "        \n",
    "        repo.create_file(\n",
    "            path=file_path,\n",
    "            message=commit_message,\n",
    "            content=content,\n",
    "            branch=\"main\"  # Указываем ветку (по умолчанию — main/master)\n",
    "        )\n",
    "        print(f\"Файл успешно загружен в репозиторий!\")\n",
    "    else:\n",
    "        raise e"
   ]
  },
  {
   "cell_type": "code",
   "execution_count": null,
   "id": "afde08b4-cf79-4b23-81f6-a5177aef00c8",
   "metadata": {},
   "outputs": [],
   "source": []
  }
 ],
 "metadata": {
  "kernelspec": {
   "display_name": "Python 3 (ipykernel)",
   "language": "python",
   "name": "python3"
  },
  "language_info": {
   "codemirror_mode": {
    "name": "ipython",
    "version": 3
   },
   "file_extension": ".py",
   "mimetype": "text/x-python",
   "name": "python",
   "nbconvert_exporter": "python",
   "pygments_lexer": "ipython3",
   "version": "3.13.5"
  }
 },
 "nbformat": 4,
 "nbformat_minor": 5
}
